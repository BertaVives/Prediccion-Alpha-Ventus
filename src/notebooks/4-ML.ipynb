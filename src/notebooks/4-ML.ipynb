{
 "cells": [
  {
   "attachments": {},
   "cell_type": "markdown",
   "metadata": {},
   "source": [
    "# Machine Learning"
   ]
  },
  {
   "cell_type": "code",
   "execution_count": 32,
   "metadata": {},
   "outputs": [],
   "source": [
    "import pandas as pd\n",
    "import numpy as np\n",
    "import seaborn as sns\n",
    "import matplotlib.pyplot as plt\n",
    "import statsmodels.api as sm\n",
    "from scipy import stats\n",
    "import warnings\n",
    "warnings.filterwarnings('ignore')\n",
    "from sklearn.model_selection import train_test_split\n",
    "from sklearn.preprocessing import MinMaxScaler, StandardScaler, PolynomialFeatures\n",
    "\n",
    "# Algorithms \n",
    "from sklearn.linear_model import LinearRegression, Ridge, Lasso, Perceptron\n",
    "from sklearn.neighbors import KNeighborsRegressor\n",
    "from sklearn.tree import DecisionTreeRegressor\n",
    "from sklearn.ensemble import RandomForestRegressor\n",
    "from sklearn.svm import SVR\n",
    "import lightgbm as lgb\n",
    "import catboost as ctb\n",
    "import xgboost as xgb\n",
    "\n",
    "# Metrics\n",
    "from sklearn.metrics import mean_squared_error, mean_absolute_error, r2_score"
   ]
  },
  {
   "cell_type": "code",
   "execution_count": 33,
   "metadata": {},
   "outputs": [
    {
     "data": {
      "text/html": [
       "<div>\n",
       "<style scoped>\n",
       "    .dataframe tbody tr th:only-of-type {\n",
       "        vertical-align: middle;\n",
       "    }\n",
       "\n",
       "    .dataframe tbody tr th {\n",
       "        vertical-align: top;\n",
       "    }\n",
       "\n",
       "    .dataframe thead th {\n",
       "        text-align: right;\n",
       "    }\n",
       "</style>\n",
       "<table border=\"1\" class=\"dataframe\">\n",
       "  <thead>\n",
       "    <tr style=\"text-align: right;\">\n",
       "      <th></th>\n",
       "      <th>WindSpeed</th>\n",
       "      <th>ActivePower</th>\n",
       "      <th>Estacion</th>\n",
       "      <th>MomentoDia</th>\n",
       "      <th>Año</th>\n",
       "      <th>Sin_WD</th>\n",
       "      <th>Cos_WD</th>\n",
       "      <th>Sin_Yaw</th>\n",
       "      <th>Cos_Yaw</th>\n",
       "    </tr>\n",
       "    <tr>\n",
       "      <th>Time</th>\n",
       "      <th></th>\n",
       "      <th></th>\n",
       "      <th></th>\n",
       "      <th></th>\n",
       "      <th></th>\n",
       "      <th></th>\n",
       "      <th></th>\n",
       "      <th></th>\n",
       "      <th></th>\n",
       "    </tr>\n",
       "  </thead>\n",
       "  <tbody>\n",
       "    <tr>\n",
       "      <th>2017-01-01 00:00:00</th>\n",
       "      <td>13.525400</td>\n",
       "      <td>5229.550000</td>\n",
       "      <td>invierno</td>\n",
       "      <td>noche</td>\n",
       "      <td>2017</td>\n",
       "      <td>-0.762231</td>\n",
       "      <td>-0.647305</td>\n",
       "      <td>0.892234</td>\n",
       "      <td>-0.451574</td>\n",
       "    </tr>\n",
       "    <tr>\n",
       "      <th>2017-01-01 00:10:00</th>\n",
       "      <td>13.525400</td>\n",
       "      <td>5229.550000</td>\n",
       "      <td>invierno</td>\n",
       "      <td>noche</td>\n",
       "      <td>2017</td>\n",
       "      <td>-0.756976</td>\n",
       "      <td>-0.653443</td>\n",
       "      <td>0.892234</td>\n",
       "      <td>-0.451574</td>\n",
       "    </tr>\n",
       "    <tr>\n",
       "      <th>2017-01-01 00:20:00</th>\n",
       "      <td>13.477100</td>\n",
       "      <td>5235.970000</td>\n",
       "      <td>invierno</td>\n",
       "      <td>noche</td>\n",
       "      <td>2017</td>\n",
       "      <td>-0.745878</td>\n",
       "      <td>-0.666083</td>\n",
       "      <td>0.896535</td>\n",
       "      <td>-0.442972</td>\n",
       "    </tr>\n",
       "    <tr>\n",
       "      <th>2017-01-01 00:30:00</th>\n",
       "      <td>13.223300</td>\n",
       "      <td>5234.350000</td>\n",
       "      <td>invierno</td>\n",
       "      <td>noche</td>\n",
       "      <td>2017</td>\n",
       "      <td>-0.742299</td>\n",
       "      <td>-0.670068</td>\n",
       "      <td>0.902114</td>\n",
       "      <td>-0.431497</td>\n",
       "    </tr>\n",
       "    <tr>\n",
       "      <th>2017-01-01 00:40:00</th>\n",
       "      <td>13.609400</td>\n",
       "      <td>5232.010000</td>\n",
       "      <td>invierno</td>\n",
       "      <td>noche</td>\n",
       "      <td>2017</td>\n",
       "      <td>-0.730008</td>\n",
       "      <td>-0.683438</td>\n",
       "      <td>0.880288</td>\n",
       "      <td>-0.474439</td>\n",
       "    </tr>\n",
       "    <tr>\n",
       "      <th>...</th>\n",
       "      <td>...</td>\n",
       "      <td>...</td>\n",
       "      <td>...</td>\n",
       "      <td>...</td>\n",
       "      <td>...</td>\n",
       "      <td>...</td>\n",
       "      <td>...</td>\n",
       "      <td>...</td>\n",
       "      <td>...</td>\n",
       "    </tr>\n",
       "    <tr>\n",
       "      <th>2020-12-31 23:10:00</th>\n",
       "      <td>2.680484</td>\n",
       "      <td>-25.521072</td>\n",
       "      <td>otoño</td>\n",
       "      <td>noche</td>\n",
       "      <td>2020</td>\n",
       "      <td>-0.228234</td>\n",
       "      <td>0.973606</td>\n",
       "      <td>-0.213240</td>\n",
       "      <td>0.977000</td>\n",
       "    </tr>\n",
       "    <tr>\n",
       "      <th>2020-12-31 23:20:00</th>\n",
       "      <td>2.324961</td>\n",
       "      <td>-24.290187</td>\n",
       "      <td>otoño</td>\n",
       "      <td>noche</td>\n",
       "      <td>2020</td>\n",
       "      <td>-0.420265</td>\n",
       "      <td>0.907401</td>\n",
       "      <td>-0.275359</td>\n",
       "      <td>0.961342</td>\n",
       "    </tr>\n",
       "    <tr>\n",
       "      <th>2020-12-31 23:30:00</th>\n",
       "      <td>2.068780</td>\n",
       "      <td>-23.819663</td>\n",
       "      <td>otoño</td>\n",
       "      <td>noche</td>\n",
       "      <td>2020</td>\n",
       "      <td>-0.611876</td>\n",
       "      <td>0.790953</td>\n",
       "      <td>-0.521707</td>\n",
       "      <td>0.853124</td>\n",
       "    </tr>\n",
       "    <tr>\n",
       "      <th>2020-12-31 23:40:00</th>\n",
       "      <td>2.178742</td>\n",
       "      <td>-22.054977</td>\n",
       "      <td>otoño</td>\n",
       "      <td>noche</td>\n",
       "      <td>2020</td>\n",
       "      <td>-0.701187</td>\n",
       "      <td>0.712977</td>\n",
       "      <td>-0.610722</td>\n",
       "      <td>0.791845</td>\n",
       "    </tr>\n",
       "    <tr>\n",
       "      <th>2020-12-31 23:50:00</th>\n",
       "      <td>2.364429</td>\n",
       "      <td>-24.162919</td>\n",
       "      <td>otoño</td>\n",
       "      <td>noche</td>\n",
       "      <td>2020</td>\n",
       "      <td>-0.875381</td>\n",
       "      <td>0.483434</td>\n",
       "      <td>-0.933275</td>\n",
       "      <td>0.359162</td>\n",
       "    </tr>\n",
       "  </tbody>\n",
       "</table>\n",
       "<p>414000 rows × 9 columns</p>\n",
       "</div>"
      ],
      "text/plain": [
       "                     WindSpeed  ActivePower  Estacion MomentoDia   Año  \\\n",
       "Time                                                                     \n",
       "2017-01-01 00:00:00  13.525400  5229.550000  invierno      noche  2017   \n",
       "2017-01-01 00:10:00  13.525400  5229.550000  invierno      noche  2017   \n",
       "2017-01-01 00:20:00  13.477100  5235.970000  invierno      noche  2017   \n",
       "2017-01-01 00:30:00  13.223300  5234.350000  invierno      noche  2017   \n",
       "2017-01-01 00:40:00  13.609400  5232.010000  invierno      noche  2017   \n",
       "...                        ...          ...       ...        ...   ...   \n",
       "2020-12-31 23:10:00   2.680484   -25.521072     otoño      noche  2020   \n",
       "2020-12-31 23:20:00   2.324961   -24.290187     otoño      noche  2020   \n",
       "2020-12-31 23:30:00   2.068780   -23.819663     otoño      noche  2020   \n",
       "2020-12-31 23:40:00   2.178742   -22.054977     otoño      noche  2020   \n",
       "2020-12-31 23:50:00   2.364429   -24.162919     otoño      noche  2020   \n",
       "\n",
       "                       Sin_WD    Cos_WD   Sin_Yaw   Cos_Yaw  \n",
       "Time                                                         \n",
       "2017-01-01 00:00:00 -0.762231 -0.647305  0.892234 -0.451574  \n",
       "2017-01-01 00:10:00 -0.756976 -0.653443  0.892234 -0.451574  \n",
       "2017-01-01 00:20:00 -0.745878 -0.666083  0.896535 -0.442972  \n",
       "2017-01-01 00:30:00 -0.742299 -0.670068  0.902114 -0.431497  \n",
       "2017-01-01 00:40:00 -0.730008 -0.683438  0.880288 -0.474439  \n",
       "...                       ...       ...       ...       ...  \n",
       "2020-12-31 23:10:00 -0.228234  0.973606 -0.213240  0.977000  \n",
       "2020-12-31 23:20:00 -0.420265  0.907401 -0.275359  0.961342  \n",
       "2020-12-31 23:30:00 -0.611876  0.790953 -0.521707  0.853124  \n",
       "2020-12-31 23:40:00 -0.701187  0.712977 -0.610722  0.791845  \n",
       "2020-12-31 23:50:00 -0.875381  0.483434 -0.933275  0.359162  \n",
       "\n",
       "[414000 rows x 9 columns]"
      ]
     },
     "execution_count": 33,
     "metadata": {},
     "output_type": "execute_result"
    }
   ],
   "source": [
    "data = pd.read_csv('../data/processed/set_data.csv', delimiter=',', index_col=0);\n",
    "data"
   ]
  },
  {
   "cell_type": "code",
   "execution_count": 34,
   "metadata": {},
   "outputs": [
    {
     "data": {
      "text/html": [
       "<div>\n",
       "<style scoped>\n",
       "    .dataframe tbody tr th:only-of-type {\n",
       "        vertical-align: middle;\n",
       "    }\n",
       "\n",
       "    .dataframe tbody tr th {\n",
       "        vertical-align: top;\n",
       "    }\n",
       "\n",
       "    .dataframe thead th {\n",
       "        text-align: right;\n",
       "    }\n",
       "</style>\n",
       "<table border=\"1\" class=\"dataframe\">\n",
       "  <thead>\n",
       "    <tr style=\"text-align: right;\">\n",
       "      <th></th>\n",
       "      <th>WindSpeed</th>\n",
       "      <th>ActivePower</th>\n",
       "      <th>Año</th>\n",
       "      <th>Sin_WD</th>\n",
       "      <th>Cos_WD</th>\n",
       "      <th>Sin_Yaw</th>\n",
       "      <th>Cos_Yaw</th>\n",
       "    </tr>\n",
       "  </thead>\n",
       "  <tbody>\n",
       "    <tr>\n",
       "      <th>count</th>\n",
       "      <td>414000.000000</td>\n",
       "      <td>414000.000000</td>\n",
       "      <td>414000.000000</td>\n",
       "      <td>414000.000000</td>\n",
       "      <td>414000.000000</td>\n",
       "      <td>414000.000000</td>\n",
       "      <td>414000.000000</td>\n",
       "    </tr>\n",
       "    <tr>\n",
       "      <th>mean</th>\n",
       "      <td>9.252860</td>\n",
       "      <td>1918.004115</td>\n",
       "      <td>2018.501865</td>\n",
       "      <td>-0.125309</td>\n",
       "      <td>-0.326738</td>\n",
       "      <td>-0.225352</td>\n",
       "      <td>-0.162525</td>\n",
       "    </tr>\n",
       "    <tr>\n",
       "      <th>std</th>\n",
       "      <td>4.697325</td>\n",
       "      <td>2217.721355</td>\n",
       "      <td>1.122368</td>\n",
       "      <td>0.658911</td>\n",
       "      <td>0.665867</td>\n",
       "      <td>0.718858</td>\n",
       "      <td>0.637219</td>\n",
       "    </tr>\n",
       "    <tr>\n",
       "      <th>min</th>\n",
       "      <td>0.000000</td>\n",
       "      <td>-2305.490000</td>\n",
       "      <td>2017.000000</td>\n",
       "      <td>-1.000000</td>\n",
       "      <td>-1.000000</td>\n",
       "      <td>-1.000000</td>\n",
       "      <td>-1.000000</td>\n",
       "    </tr>\n",
       "    <tr>\n",
       "      <th>25%</th>\n",
       "      <td>5.707145</td>\n",
       "      <td>168.493013</td>\n",
       "      <td>2017.000000</td>\n",
       "      <td>-0.739748</td>\n",
       "      <td>-0.938899</td>\n",
       "      <td>-0.845467</td>\n",
       "      <td>-0.807946</td>\n",
       "    </tr>\n",
       "    <tr>\n",
       "      <th>50%</th>\n",
       "      <td>8.213190</td>\n",
       "      <td>1744.369498</td>\n",
       "      <td>2019.000000</td>\n",
       "      <td>-0.163029</td>\n",
       "      <td>-0.545475</td>\n",
       "      <td>-0.534619</td>\n",
       "      <td>-0.201159</td>\n",
       "    </tr>\n",
       "    <tr>\n",
       "      <th>75%</th>\n",
       "      <td>12.613767</td>\n",
       "      <td>4020.871422</td>\n",
       "      <td>2020.000000</td>\n",
       "      <td>0.381086</td>\n",
       "      <td>0.222223</td>\n",
       "      <td>0.470912</td>\n",
       "      <td>0.414121</td>\n",
       "    </tr>\n",
       "    <tr>\n",
       "      <th>max</th>\n",
       "      <td>29.761900</td>\n",
       "      <td>5237.710000</td>\n",
       "      <td>2020.000000</td>\n",
       "      <td>1.000000</td>\n",
       "      <td>1.000000</td>\n",
       "      <td>1.000000</td>\n",
       "      <td>1.000000</td>\n",
       "    </tr>\n",
       "  </tbody>\n",
       "</table>\n",
       "</div>"
      ],
      "text/plain": [
       "           WindSpeed    ActivePower            Año         Sin_WD  \\\n",
       "count  414000.000000  414000.000000  414000.000000  414000.000000   \n",
       "mean        9.252860    1918.004115    2018.501865      -0.125309   \n",
       "std         4.697325    2217.721355       1.122368       0.658911   \n",
       "min         0.000000   -2305.490000    2017.000000      -1.000000   \n",
       "25%         5.707145     168.493013    2017.000000      -0.739748   \n",
       "50%         8.213190    1744.369498    2019.000000      -0.163029   \n",
       "75%        12.613767    4020.871422    2020.000000       0.381086   \n",
       "max        29.761900    5237.710000    2020.000000       1.000000   \n",
       "\n",
       "              Cos_WD        Sin_Yaw        Cos_Yaw  \n",
       "count  414000.000000  414000.000000  414000.000000  \n",
       "mean       -0.326738      -0.225352      -0.162525  \n",
       "std         0.665867       0.718858       0.637219  \n",
       "min        -1.000000      -1.000000      -1.000000  \n",
       "25%        -0.938899      -0.845467      -0.807946  \n",
       "50%        -0.545475      -0.534619      -0.201159  \n",
       "75%         0.222223       0.470912       0.414121  \n",
       "max         1.000000       1.000000       1.000000  "
      ]
     },
     "execution_count": 34,
     "metadata": {},
     "output_type": "execute_result"
    }
   ],
   "source": [
    "data.describe()"
   ]
  },
  {
   "attachments": {},
   "cell_type": "markdown",
   "metadata": {},
   "source": [
    "## Preparación de los datos"
   ]
  },
  {
   "attachments": {},
   "cell_type": "markdown",
   "metadata": {},
   "source": [
    "### Normalización de los datos"
   ]
  },
  {
   "attachments": {},
   "cell_type": "markdown",
   "metadata": {},
   "source": [
    "#### Velocidad del viento"
   ]
  },
  {
   "cell_type": "code",
   "execution_count": 35,
   "metadata": {},
   "outputs": [
    {
     "data": {
      "image/png": "[encoded data removed]",
      "text/plain": [
       "<Figure size 2000x500 with 4 Axes>"
      ]
     },
     "metadata": {},
     "output_type": "display_data"
    },
    {
     "data": {
      "image/png": "[encoded data removed]",
      "text/plain": [
       "<Figure size 2000x500 with 4 Axes>"
      ]
     },
     "metadata": {},
     "output_type": "display_data"
    }
   ],
   "source": [
    "fig, axes = plt.subplots(1, 4, figsize=(20, 5), sharey=True)\n",
    "# Original target\n",
    "sns.distplot(data['WindSpeed'], kde=False, ax=axes[0])\n",
    "axes[0].set_title(\"Original\")\n",
    "# Logaritmic\n",
    "sns.distplot(np.log(data['WindSpeed']+1), kde=False, ax=axes[1])\n",
    "axes[1].set_title(\"Log\")\n",
    "# Box-cox\n",
    "sns.distplot(stats.boxcox(data['WindSpeed']+1)[0], kde=False, ax=axes[2])\n",
    "axes[2].set_title(\"Box-Cox\");\n",
    "# Power 2\n",
    "sns.distplot(np.power(data['WindSpeed']+1, 2), kde=False, ax=axes[3])\n",
    "axes[3].set_title(\"Power 2\");\n",
    "\n",
    "\n",
    "fig, axes = plt.subplots(1, 4, figsize=(20, 5), sharey=True)\n",
    "# Original target\n",
    "sm.qqplot(data['WindSpeed'], line='q', ax=axes[0]);\n",
    "# Logaritmic\n",
    "sm.qqplot(np.log(data['WindSpeed']+1), fit=True, line='q', ax=axes[1]);\n",
    "# Box-cox\n",
    "sm.qqplot(stats.boxcox(data['WindSpeed']+1)[0], fit=True, line='q', ax=axes[2]);\n",
    "# Power 2\n",
    "sm.qqplot(np.power(data['WindSpeed']+1, 2), fit=True, line='q', ax=axes[3]);"
   ]
  },
  {
   "attachments": {},
   "cell_type": "markdown",
   "metadata": {},
   "source": [
    "Se utilizará el logaritmo para normalizar la variable."
   ]
  },
  {
   "cell_type": "code",
   "execution_count": 36,
   "metadata": {},
   "outputs": [],
   "source": [
    "data['WindSpeed'] = np.log(data['WindSpeed']+1)"
   ]
  },
  {
   "attachments": {},
   "cell_type": "markdown",
   "metadata": {},
   "source": [
    "### Transformación variables no numéricas"
   ]
  },
  {
   "cell_type": "code",
   "execution_count": 37,
   "metadata": {},
   "outputs": [],
   "source": [
    "num_estacion = []\n",
    "for i in data['Estacion']:\n",
    "    i = (i=='primavera')*0+(i=='verano')*1+(i=='otoño')*2+(i=='inviero')*3\n",
    "    num_estacion.append(i)\n",
    "data['Estacion'] = num_estacion"
   ]
  },
  {
   "cell_type": "code",
   "execution_count": 38,
   "metadata": {},
   "outputs": [],
   "source": [
    "num_momento = []\n",
    "for i in data['MomentoDia']:\n",
    "    i = (i=='mañana')*0+(i=='tarde')*1+(i=='noche')*2+(i=='madrugada')*3\n",
    "    num_momento.append(i)\n",
    "data['MomentoDia'] = num_momento"
   ]
  },
  {
   "attachments": {},
   "cell_type": "markdown",
   "metadata": {},
   "source": [
    "## División en train y test"
   ]
  },
  {
   "cell_type": "code",
   "execution_count": 39,
   "metadata": {},
   "outputs": [],
   "source": [
    "X = data.drop(columns='ActivePower')\n",
    "y = data['ActivePower']"
   ]
  },
  {
   "cell_type": "code",
   "execution_count": 40,
   "metadata": {},
   "outputs": [
    {
     "data": {
      "text/plain": [
       "((289800, 8), (124200, 8))"
      ]
     },
     "execution_count": 40,
     "metadata": {},
     "output_type": "execute_result"
    }
   ],
   "source": [
    "X_train, X_test, y_train, y_test = train_test_split(X,y,test_size=0.3,random_state=1234)\n",
    "X_train.shape, X_test.shape"
   ]
  },
  {
   "attachments": {},
   "cell_type": "markdown",
   "metadata": {},
   "source": [
    "## Baseline"
   ]
  },
  {
   "attachments": {},
   "cell_type": "markdown",
   "metadata": {},
   "source": [
    "### Algoritmos de Regresión"
   ]
  },
  {
   "attachments": {},
   "cell_type": "markdown",
   "metadata": {},
   "source": [
    "##### Regresión Lineal"
   ]
  },
  {
   "cell_type": "code",
   "execution_count": 41,
   "metadata": {},
   "outputs": [
    {
     "name": "stdout",
     "output_type": "stream",
     "text": [
      "Score del modelo (R^2): 0.5601\n",
      "R^2 score: 0.2132\n",
      "MAE score: 1132.1062\n",
      "MSE score: 2175423.997\n",
      "RMSE score: 1474.9319\n",
      "MAPE score: 893.2605\n"
     ]
    }
   ],
   "source": [
    "### Regresión Lineal ###\n",
    "lr = LinearRegression()\n",
    "\n",
    "lr.fit(X_train, y_train)\n",
    "preds = lr.predict(X_test)\n",
    "\n",
    "print(\"Score del modelo (R^2):\", round(lr.score(X_train, y_train), 4))\n",
    "print(\"R^2 score:\", round(r2_score(preds, y_test), 4))\n",
    "print(\"MAE score:\", round(mean_absolute_error(preds, y_test), 4))\n",
    "print(\"MSE score:\", round(mean_squared_error(preds, y_test), 4))\n",
    "print(\"RMSE score:\", round(np.sqrt(mean_squared_error(preds, y_test)), 4))\n",
    "\n",
    "def mean_absolute_percentage_error(y_pred, y_true): \n",
    "    y_true, y_pred = np.array(y_true), np.array(y_pred)\n",
    "    return np.mean(np.abs((y_true - y_pred) / y_true)) * 100\n",
    "\n",
    "\n",
    "print(\"MAPE score:\", round(mean_absolute_percentage_error(preds, y_test), 4))"
   ]
  },
  {
   "attachments": {},
   "cell_type": "markdown",
   "metadata": {},
   "source": [
    "##### Regresión polinomial"
   ]
  },
  {
   "cell_type": "code",
   "execution_count": 42,
   "metadata": {},
   "outputs": [
    {
     "name": "stdout",
     "output_type": "stream",
     "text": [
      "Score del modelo (R^2): 0.7228\n",
      "R^2 score: 0.712\n",
      "MAE score: 828.4879\n",
      "MSE score: 1379434.7517\n",
      "RMSE score: 1174.4934\n",
      "MAPE score: 880.1277\n"
     ]
    }
   ],
   "source": [
    "poli_reg = PolynomialFeatures(degree = 4)\n",
    "\n",
    "X_train_poli = poli_reg.fit_transform(X_train)\n",
    "X_test_poli = poli_reg.fit_transform(X_test)\n",
    "\n",
    "model = LinearRegression()\n",
    "\n",
    "model.fit(X_train_poli, y_train)\n",
    "preds = model.predict(X_test_poli)\n",
    "\n",
    "print(\"Score del modelo (R^2):\", round(model.score(X_train_poli, y_train), 4))\n",
    "print(\"R^2 score:\", round(r2_score(preds, y_test), 4))\n",
    "print(\"MAE score:\", round(mean_absolute_error(preds, y_test), 4))\n",
    "print(\"MSE score:\", round(mean_squared_error(preds, y_test), 4))\n",
    "print(\"RMSE score:\", round(np.sqrt(mean_squared_error(preds, y_test)), 4))\n",
    "\n",
    "def mean_absolute_percentage_error(y_pred, y_true): \n",
    "    y_true, y_pred = np.array(y_true), np.array(y_pred)\n",
    "    return np.mean(np.abs((y_true - y_pred) / y_true)) * 100\n",
    "\n",
    "\n",
    "print(\"MAPE score:\", round(mean_absolute_percentage_error(preds, y_test), 4))"
   ]
  },
  {
   "attachments": {},
   "cell_type": "markdown",
   "metadata": {},
   "source": [
    "##### Regresión Lasso"
   ]
  },
  {
   "cell_type": "code",
   "execution_count": 43,
   "metadata": {},
   "outputs": [
    {
     "name": "stdout",
     "output_type": "stream",
     "text": [
      "Score del modelo (R^2): 0.5601\n",
      "R^2 score: 0.2103\n",
      "MAE score: 1132.2846\n",
      "MSE score: 2175378.2563\n",
      "RMSE score: 1474.9164\n",
      "MAPE score: 890.8222\n"
     ]
    }
   ],
   "source": [
    "modelo = Lasso()\n",
    "\n",
    "modelo.fit(X_train, y_train)\n",
    "preds = modelo.predict(X_test)\n",
    "\n",
    "print(\"Score del modelo (R^2):\", round(modelo.score(X_train, y_train), 4))\n",
    "print(\"R^2 score:\", round(r2_score(preds, y_test), 4))\n",
    "print(\"MAE score:\", round(mean_absolute_error(preds, y_test), 4))\n",
    "print(\"MSE score:\", round(mean_squared_error(preds, y_test), 4))\n",
    "print(\"RMSE score:\", round(np.sqrt(mean_squared_error(preds, y_test)), 4))\n",
    "\n",
    "def mean_absolute_percentage_error(y_pred, y_true): \n",
    "    y_true, y_pred = np.array(y_true), np.array(y_pred)\n",
    "    return np.mean(np.abs((y_true - y_pred) / y_true)) * 100\n",
    "\n",
    "\n",
    "print(\"MAPE score:\", round(mean_absolute_percentage_error(preds, y_test), 4))"
   ]
  },
  {
   "attachments": {},
   "cell_type": "markdown",
   "metadata": {},
   "source": [
    "##### Regresión de Ridge"
   ]
  },
  {
   "cell_type": "code",
   "execution_count": 44,
   "metadata": {},
   "outputs": [
    {
     "name": "stdout",
     "output_type": "stream",
     "text": [
      "Score del modelo (R^2): 0.5601\n",
      "R^2 score: 0.2132\n",
      "MAE score: 1132.1083\n",
      "MSE score: 2175423.9685\n",
      "RMSE score: 1474.9319\n",
      "MAPE score: 893.2451\n"
     ]
    }
   ],
   "source": [
    "modelo = Ridge()\n",
    "\n",
    "modelo.fit(X_train, y_train)\n",
    "preds = modelo.predict(X_test)\n",
    "\n",
    "print(\"Score del modelo (R^2):\", round(modelo.score(X_train, y_train), 4))\n",
    "print(\"R^2 score:\", round(r2_score(preds, y_test), 4))\n",
    "print(\"MAE score:\", round(mean_absolute_error(preds, y_test), 4))\n",
    "print(\"MSE score:\", round(mean_squared_error(preds, y_test), 4))\n",
    "print(\"RMSE score:\", round(np.sqrt(mean_squared_error(preds, y_test)), 4))\n",
    "\n",
    "def mean_absolute_percentage_error(y_pred, y_true): \n",
    "    y_true, y_pred = np.array(y_true), np.array(y_pred)\n",
    "    return np.mean(np.abs((y_true - y_pred) / y_true)) * 100\n",
    "\n",
    "\n",
    "print(\"MAPE score:\", round(mean_absolute_percentage_error(preds, y_test), 4))"
   ]
  },
  {
   "attachments": {},
   "cell_type": "markdown",
   "metadata": {},
   "source": [
    "### Algoritmos basados en Instancia"
   ]
  },
  {
   "cell_type": "code",
   "execution_count": 45,
   "metadata": {},
   "outputs": [
    {
     "data": {
      "text/plain": [
       "<AxesSubplot: >"
      ]
     },
     "execution_count": 45,
     "metadata": {},
     "output_type": "execute_result"
    },
    {
     "data": {
      "image/png": "[encoded data removed]",
      "text/plain": [
       "<Figure size 640x480 with 1 Axes>"
      ]
     },
     "metadata": {},
     "output_type": "display_data"
    }
   ],
   "source": [
    "n = [1,2,3,4,5,6,7,8,9,10]\n",
    "score = []\n",
    "for i in n:\n",
    "    modelo = KNeighborsRegressor(n_neighbors=i)\n",
    "    modelo.fit(X_train, y_train)\n",
    "    preds = modelo.predict(X_test)\n",
    "    score.append(round(modelo.score(X_train, y_train), 4))\n",
    "\n",
    "sns.lineplot(x=n, y=score)"
   ]
  },
  {
   "cell_type": "code",
   "execution_count": 46,
   "metadata": {},
   "outputs": [
    {
     "name": "stdout",
     "output_type": "stream",
     "text": [
      "Score del modelo (R^2): 0.9844\n",
      "R^2 score: 0.9702\n",
      "MAE score: 108.8382\n",
      "MSE score: 143843.0551\n",
      "RMSE score: 379.2665\n",
      "MAPE score: 109.349\n"
     ]
    }
   ],
   "source": [
    "### k-Nearest Neighbor ###\n",
    "modelo = KNeighborsRegressor(n_neighbors=4)\n",
    "\n",
    "modelo.fit(X_train, y_train)\n",
    "preds = modelo.predict(X_test)\n",
    "\n",
    "print(\"Score del modelo (R^2):\", round(modelo.score(X_train, y_train), 4))\n",
    "print(\"R^2 score:\", round(r2_score(preds, y_test), 4))\n",
    "print(\"MAE score:\", round(mean_absolute_error(preds, y_test), 4))\n",
    "print(\"MSE score:\", round(mean_squared_error(preds, y_test), 4))\n",
    "print(\"RMSE score:\", round(np.sqrt(mean_squared_error(preds, y_test)), 4))\n",
    "\n",
    "def mean_absolute_percentage_error(y_pred, y_true): \n",
    "    y_true, y_pred = np.array(y_true), np.array(y_pred)\n",
    "    return np.mean(np.abs((y_true - y_pred) / y_true)) * 100\n",
    "\n",
    "\n",
    "print(\"MAPE score:\", round(mean_absolute_percentage_error(preds, y_test), 4))"
   ]
  },
  {
   "attachments": {},
   "cell_type": "markdown",
   "metadata": {},
   "source": [
    "### Algoritmos de Árbol de Decisión"
   ]
  },
  {
   "cell_type": "code",
   "execution_count": 47,
   "metadata": {},
   "outputs": [
    {
     "data": {
      "image/png": "[encoded data removed]",
      "text/plain": [
       "<Figure size 640x480 with 1 Axes>"
      ]
     },
     "metadata": {},
     "output_type": "display_data"
    }
   ],
   "source": [
    "n = [1,2,3,4,5,6,7,8,9,10]\n",
    "score = []\n",
    "\n",
    "for i in n:\n",
    "    modelo = DecisionTreeRegressor(max_depth=i)\n",
    "    modelo.fit(X_train, y_train)\n",
    "    preds = modelo.predict(X_test)\n",
    "    score.append(round(modelo.score(X_train, y_train), 4))\n",
    "    \n",
    "plt.bar(n, score)\n",
    "plt.show()"
   ]
  },
  {
   "cell_type": "code",
   "execution_count": 48,
   "metadata": {},
   "outputs": [
    {
     "name": "stdout",
     "output_type": "stream",
     "text": [
      "Score del modelo (R^2): 0.7989\n",
      "R^2 score: 0.75\n",
      "MAE score: 564.5284\n",
      "MSE score: 986454.3823\n",
      "RMSE score: 993.2041\n",
      "MAPE score: 435.7972\n"
     ]
    }
   ],
   "source": [
    "### Árbol de decisión ###\n",
    "modelo = DecisionTreeRegressor(max_depth=4)\n",
    "\n",
    "modelo.fit(X_train, y_train)\n",
    "preds = modelo.predict(X_test)\n",
    "\n",
    "print(\"Score del modelo (R^2):\", round(modelo.score(X_train, y_train), 4))\n",
    "print(\"R^2 score:\", round(r2_score(preds, y_test), 4))\n",
    "print(\"MAE score:\", round(mean_absolute_error(preds, y_test), 4))\n",
    "print(\"MSE score:\", round(mean_squared_error(preds, y_test), 4))\n",
    "print(\"RMSE score:\", round(np.sqrt(mean_squared_error(preds, y_test)), 4))\n",
    "\n",
    "def mean_absolute_percentage_error(y_pred, y_true): \n",
    "    y_true, y_pred = np.array(y_true), np.array(y_pred)\n",
    "    return np.mean(np.abs((y_true - y_pred) / y_true)) * 100\n",
    "\n",
    "\n",
    "print(\"MAPE score:\", round(mean_absolute_percentage_error(preds, y_test), 4))"
   ]
  },
  {
   "attachments": {},
   "cell_type": "markdown",
   "metadata": {},
   "source": [
    "### Algoritmos de Ensembled"
   ]
  },
  {
   "cell_type": "code",
   "execution_count": 49,
   "metadata": {},
   "outputs": [
    {
     "data": {
      "image/png": "[encoded data removed]",
      "text/plain": [
       "<Figure size 640x480 with 1 Axes>"
      ]
     },
     "metadata": {},
     "output_type": "display_data"
    }
   ],
   "source": [
    "n = [1,2,3,4,5,6,7,8,9,10]\n",
    "score = []\n",
    "\n",
    "for i in n:\n",
    "    modelo = RandomForestRegressor(n_estimators=120, max_depth=i)\n",
    "    modelo.fit(X_train, y_train)\n",
    "    preds = modelo.predict(X_test)\n",
    "    score.append(round(modelo.score(X_train, y_train), 4))\n",
    "    \n",
    "plt.bar(n, score)\n",
    "plt.show()"
   ]
  },
  {
   "cell_type": "code",
   "execution_count": 50,
   "metadata": {},
   "outputs": [
    {
     "name": "stdout",
     "output_type": "stream",
     "text": [
      "Score del modelo (R^2): 0.7039\n",
      "R^2 score: 0.5594\n",
      "MAE score: 830.4134\n",
      "MSE score: 1450373.8959\n",
      "RMSE score: 1204.3147\n",
      "MAPE score: 529.5709\n"
     ]
    }
   ],
   "source": [
    "### Random Forest ###\n",
    "modelo = RandomForestRegressor(n_estimators=120, max_depth=3)\n",
    "\n",
    "modelo.fit(X_train, y_train)\n",
    "preds = modelo.predict(X_test)\n",
    "\n",
    "print(\"Score del modelo (R^2):\", round(modelo.score(X_train, y_train), 4))\n",
    "print(\"R^2 score:\", round(r2_score(preds, y_test), 4))\n",
    "print(\"MAE score:\", round(mean_absolute_error(preds, y_test), 4))\n",
    "print(\"MSE score:\", round(mean_squared_error(preds, y_test), 4))\n",
    "print(\"RMSE score:\", round(np.sqrt(mean_squared_error(preds, y_test)), 4))\n",
    "\n",
    "def mean_absolute_percentage_error(y_pred, y_true): \n",
    "    y_true, y_pred = np.array(y_true), np.array(y_pred)\n",
    "    return np.mean(np.abs((y_true - y_pred) / y_true)) * 100\n",
    "\n",
    "\n",
    "print(\"MAPE score:\", round(mean_absolute_percentage_error(preds, y_test), 4))"
   ]
  },
  {
   "attachments": {},
   "cell_type": "markdown",
   "metadata": {},
   "source": [
    "### LightGBM"
   ]
  },
  {
   "cell_type": "code",
   "execution_count": 51,
   "metadata": {},
   "outputs": [
    {
     "data": {
      "image/png": "[encoded data removed]",
      "text/plain": [
       "<Figure size 640x480 with 1 Axes>"
      ]
     },
     "metadata": {},
     "output_type": "display_data"
    }
   ],
   "source": [
    "n = [1,2,3,4,5,6,7,8,9,10]\n",
    "score = []\n",
    "\n",
    "for i in n:\n",
    "    modelo = lgb.LGBMRegressor(n_estimators=120, max_depth=i)\n",
    "    modelo.fit(X_train, y_train)\n",
    "    preds = modelo.predict(X_test)\n",
    "    score.append(round(modelo.score(X_train, y_train), 4))\n",
    "    \n",
    "plt.bar(n, score)\n",
    "plt.show()"
   ]
  },
  {
   "cell_type": "code",
   "execution_count": 52,
   "metadata": {},
   "outputs": [
    {
     "name": "stdout",
     "output_type": "stream",
     "text": [
      "Score del modelo (R^2): 0.8188\n",
      "R^2 score: 0.7564\n",
      "MAE score: 521.9634\n",
      "MSE score: 888559.7573\n",
      "RMSE score: 942.6345\n",
      "MAPE score: 464.6599\n"
     ]
    }
   ],
   "source": [
    "modelo = lgb.LGBMRegressor(n_estimators=120, max_depth=2)\n",
    "\n",
    "modelo.fit(X_train, y_train)\n",
    "preds = modelo.predict(X_test)\n",
    "\n",
    "print(\"Score del modelo (R^2):\", round(modelo.score(X_train, y_train), 4))\n",
    "print(\"R^2 score:\", round(r2_score(preds, y_test), 4))\n",
    "print(\"MAE score:\", round(mean_absolute_error(preds, y_test), 4))\n",
    "print(\"MSE score:\", round(mean_squared_error(preds, y_test), 4))\n",
    "print(\"RMSE score:\", round(np.sqrt(mean_squared_error(preds, y_test)), 4))\n",
    "\n",
    "def mean_absolute_percentage_error(y_pred, y_true): \n",
    "    y_true, y_pred = np.array(y_true), np.array(y_pred)\n",
    "    return np.mean(np.abs((y_true - y_pred) / y_true)) * 100\n",
    "\n",
    "\n",
    "print(\"MAPE score:\", round(mean_absolute_percentage_error(preds, y_test), 4))"
   ]
  },
  {
   "attachments": {},
   "cell_type": "markdown",
   "metadata": {},
   "source": [
    "### Algoritmos de Boosting"
   ]
  },
  {
   "cell_type": "code",
   "execution_count": 53,
   "metadata": {},
   "outputs": [
    {
     "data": {
      "image/png": "[encoded data removed]",
      "text/plain": [
       "<Figure size 640x480 with 1 Axes>"
      ]
     },
     "metadata": {},
     "output_type": "display_data"
    }
   ],
   "source": [
    "n = [1,2,3,4,5,6,7,8,9,10]\n",
    "score = []\n",
    "\n",
    "for i in n:\n",
    "    modelo = xgb.XGBRegressor(n_estimators=120, max_depth=i)\n",
    "    modelo.fit(X_train, y_train)\n",
    "    preds = modelo.predict(X_test)\n",
    "    score.append(round(modelo.score(X_train, y_train), 4))\n",
    "    \n",
    "plt.bar(n, score)\n",
    "plt.show()"
   ]
  },
  {
   "cell_type": "code",
   "execution_count": 54,
   "metadata": {},
   "outputs": [
    {
     "name": "stdout",
     "output_type": "stream",
     "text": [
      "Score del modelo (R^2): 0.8604\n",
      "R^2 score: 0.8298\n",
      "MAE score: 437.3761\n",
      "MSE score: 686399.8337\n",
      "RMSE score: 828.4925\n",
      "MAPE score: 467.8918\n"
     ]
    }
   ],
   "source": [
    "# XGBoost\n",
    "modelo = xgb.XGBRegressor(n_estimators=120, max_depth=2)\n",
    "\n",
    "modelo.fit(X_train, y_train)\n",
    "preds = modelo.predict(X_test)\n",
    "\n",
    "print(\"Score del modelo (R^2):\", round(modelo.score(X_train, y_train), 4))\n",
    "print(\"R^2 score:\", round(r2_score(preds, y_test), 4))\n",
    "print(\"MAE score:\", round(mean_absolute_error(preds, y_test), 4))\n",
    "print(\"MSE score:\", round(mean_squared_error(preds, y_test), 4))\n",
    "print(\"RMSE score:\", round(np.sqrt(mean_squared_error(preds, y_test)), 4))\n",
    "\n",
    "def mean_absolute_percentage_error(y_pred, y_true): \n",
    "    y_true, y_pred = np.array(y_true), np.array(y_pred)\n",
    "    return np.mean(np.abs((y_true - y_pred) / y_true)) * 100\n",
    "\n",
    "\n",
    "print(\"MAPE score:\", round(mean_absolute_percentage_error(preds, y_test), 4))"
   ]
  }
 ],
 "metadata": {
  "kernelspec": {
   "display_name": "DataScience",
   "language": "python",
   "name": "python3"
  },
  "language_info": {
   "codemirror_mode": {
    "name": "ipython",
    "version": 3
   },
   "file_extension": ".py",
   "mimetype": "text/x-python",
   "name": "python",
   "nbconvert_exporter": "python",
   "pygments_lexer": "ipython3",
   "version": "3.9.15"
  },
  "orig_nbformat": 4,
  "vscode": {
   "interpreter": {
    "hash": "4b5a2aaf94a20ece0551648939ed853b4738d2f77c0cac11f174cba8f59e450c"
   }
  }
 },
 "nbformat": 4,
 "nbformat_minor": 2
}
